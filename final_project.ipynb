{
 "cells": [
  {
   "cell_type": "markdown",
   "metadata": {},
   "source": [
    "# Final Project\n",
    "\n",
    "Taylor Poole\n",
    "\n",
    "CDS 411\n",
    "\n",
    "---"
   ]
  },
  {
   "cell_type": "code",
   "execution_count": 2,
   "metadata": {},
   "outputs": [
    {
     "name": "stderr",
     "output_type": "stream",
     "text": [
      "/Users/taylorpoole/anaconda/lib/python3.6/site-packages/sklearn/cross_validation.py:41: DeprecationWarning: This module was deprecated in version 0.18 in favor of the model_selection module into which all the refactored classes and functions are moved. Also note that the interface of the new CV iterators are different from that of this module. This module will be removed in 0.20.\n",
      "  \"This module will be removed in 0.20.\", DeprecationWarning)\n"
     ]
    }
   ],
   "source": [
    "# Standard imports for CDS 411 projects\n",
    "%matplotlib inline\n",
    "\n",
    "import matplotlib.pyplot as plt\n",
    "import numpy as np\n",
    "import pandas as pd\n",
    "import seaborn as sns\n",
    "\n",
    "\n",
    "from sklearn.cross_validation import train_test_split\n",
    "from sklearn.linear_model import LogisticRegression\n",
    "from sklearn import metrics\n",
    "\n",
    "\n",
    "# One-time install and activation of improved PDF\n",
    "# export template\n",
    "import template_install"
   ]
  },
  {
   "cell_type": "markdown",
   "metadata": {},
   "source": [
    "## Analysis of the problem"
   ]
  },
  {
   "cell_type": "markdown",
   "metadata": {},
   "source": [
    "In today’s machine learning world, there are many applications to use machine learning to create a better society. One of these ways is by using data-driven approaches to find strategies for better crime and safety prevention. The following simulation will answer the question: Can one predict if a crime will be nonviolent or violent given a specific neighborhood in Washington, DC? Then a separate simulation will see if a prediction of violent or nonviolent crime will occur based on crime method. \n",
    "\n",
    "Background information shows that police tend to rely on reactive strategies while on duty. This type of strategy is more expensive and allows for more crimes to be committed. Using data-driven prediction models allows for police to be better equipped with knowledge of known “hotspots” to be more proactive and use law enforcement in a more cost effective manner. \n"
   ]
  },
  {
   "cell_type": "markdown",
   "metadata": {},
   "source": [
    "## Model design and solution"
   ]
  },
  {
   "cell_type": "markdown",
   "metadata": {},
   "source": [
    "The data gathered for this model was retrieved from http://opendata.dc.gov/datasets/ for the following five data sets:\n",
    "\n",
    "crime-incidents-in-2013\n",
    "\n",
    "crime-incidents-in-2014\n",
    "\n",
    "crime-incidents-in-2015\n",
    "\n",
    "crime-incidents-in-2016\n",
    "\n",
    "crime-incidents-in-2017\n",
    "\n",
    "Before the data was imported into the Jupiter dataset, it was joined in another software, R. The resulting file was named fiveyearcrime1.csv.\n"
   ]
  },
  {
   "cell_type": "markdown",
   "metadata": {},
   "source": [
    "Import the data set into python and label 'crime':"
   ]
  },
  {
   "cell_type": "code",
   "execution_count": 3,
   "metadata": {
    "scrolled": true
   },
   "outputs": [],
   "source": [
    "filename = '/Users/taylorpoole/Documents/FALL 2018/CDS411/final-project-tpoole4/fiveyearcrime1.csv'\n",
    "crime = pd.read_csv(filename)"
   ]
  },
  {
   "cell_type": "markdown",
   "metadata": {},
   "source": [
    "Now that the data is labeled as crime, I can view the dataset(Here just displays the first five rows):"
   ]
  },
  {
   "cell_type": "code",
   "execution_count": 4,
   "metadata": {
    "scrolled": false
   },
   "outputs": [
    {
     "data": {
      "text/html": [
       "<div>\n",
       "<style scoped>\n",
       "    .dataframe tbody tr th:only-of-type {\n",
       "        vertical-align: middle;\n",
       "    }\n",
       "\n",
       "    .dataframe tbody tr th {\n",
       "        vertical-align: top;\n",
       "    }\n",
       "\n",
       "    .dataframe thead th {\n",
       "        text-align: right;\n",
       "    }\n",
       "</style>\n",
       "<table border=\"1\" class=\"dataframe\">\n",
       "  <thead>\n",
       "    <tr style=\"text-align: right;\">\n",
       "      <th></th>\n",
       "      <th>Unnamed: 0</th>\n",
       "      <th>X</th>\n",
       "      <th>Y</th>\n",
       "      <th>REPORT_DAT</th>\n",
       "      <th>SHIFT</th>\n",
       "      <th>METHOD</th>\n",
       "      <th>OFFENSE</th>\n",
       "      <th>DISTRICT</th>\n",
       "      <th>NEIGHBORHOOD_CLUSTER</th>\n",
       "      <th>VOTING_PRECINCT</th>\n",
       "      <th>YEAR</th>\n",
       "      <th>MONTH</th>\n",
       "      <th>DAY</th>\n",
       "      <th>CLUSTER</th>\n",
       "    </tr>\n",
       "  </thead>\n",
       "  <tbody>\n",
       "    <tr>\n",
       "      <th>0</th>\n",
       "      <td>1</td>\n",
       "      <td>-77.012183</td>\n",
       "      <td>38.871394</td>\n",
       "      <td>4/16/13 0:00</td>\n",
       "      <td>MIDNIGHT</td>\n",
       "      <td>KNIFE</td>\n",
       "      <td>HOMICIDE</td>\n",
       "      <td>1.0</td>\n",
       "      <td>Cluster 9</td>\n",
       "      <td>Precinct 127</td>\n",
       "      <td>2013</td>\n",
       "      <td>4</td>\n",
       "      <td>16</td>\n",
       "      <td>9.0</td>\n",
       "    </tr>\n",
       "    <tr>\n",
       "      <th>1</th>\n",
       "      <td>2</td>\n",
       "      <td>-77.054969</td>\n",
       "      <td>38.899776</td>\n",
       "      <td>2/27/13 0:00</td>\n",
       "      <td>MIDNIGHT</td>\n",
       "      <td>OTHERS</td>\n",
       "      <td>SEX ABUSE</td>\n",
       "      <td>2.0</td>\n",
       "      <td>Cluster 5</td>\n",
       "      <td>Precinct 3</td>\n",
       "      <td>2013</td>\n",
       "      <td>2</td>\n",
       "      <td>27</td>\n",
       "      <td>5.0</td>\n",
       "    </tr>\n",
       "    <tr>\n",
       "      <th>2</th>\n",
       "      <td>3</td>\n",
       "      <td>-76.996185</td>\n",
       "      <td>38.927922</td>\n",
       "      <td>7/31/13 0:00</td>\n",
       "      <td>MIDNIGHT</td>\n",
       "      <td>OTHERS</td>\n",
       "      <td>HOMICIDE</td>\n",
       "      <td>5.0</td>\n",
       "      <td>Cluster 21</td>\n",
       "      <td>Precinct 74</td>\n",
       "      <td>2013</td>\n",
       "      <td>7</td>\n",
       "      <td>31</td>\n",
       "      <td>21.0</td>\n",
       "    </tr>\n",
       "    <tr>\n",
       "      <th>3</th>\n",
       "      <td>4</td>\n",
       "      <td>-76.943078</td>\n",
       "      <td>38.883686</td>\n",
       "      <td>1/31/13 0:00</td>\n",
       "      <td>MIDNIGHT</td>\n",
       "      <td>GUN</td>\n",
       "      <td>HOMICIDE</td>\n",
       "      <td>6.0</td>\n",
       "      <td>Cluster 33</td>\n",
       "      <td>Precinct 103</td>\n",
       "      <td>2013</td>\n",
       "      <td>1</td>\n",
       "      <td>31</td>\n",
       "      <td>33.0</td>\n",
       "    </tr>\n",
       "    <tr>\n",
       "      <th>4</th>\n",
       "      <td>5</td>\n",
       "      <td>-76.939209</td>\n",
       "      <td>38.892278</td>\n",
       "      <td>7/8/13 0:00</td>\n",
       "      <td>MIDNIGHT</td>\n",
       "      <td>OTHERS</td>\n",
       "      <td>SEX ABUSE</td>\n",
       "      <td>6.0</td>\n",
       "      <td>Cluster 33</td>\n",
       "      <td>Precinct 99</td>\n",
       "      <td>2013</td>\n",
       "      <td>7</td>\n",
       "      <td>8</td>\n",
       "      <td>33.0</td>\n",
       "    </tr>\n",
       "  </tbody>\n",
       "</table>\n",
       "</div>"
      ],
      "text/plain": [
       "   Unnamed: 0          X          Y    REPORT_DAT     SHIFT  METHOD  \\\n",
       "0           1 -77.012183  38.871394  4/16/13 0:00  MIDNIGHT   KNIFE   \n",
       "1           2 -77.054969  38.899776  2/27/13 0:00  MIDNIGHT  OTHERS   \n",
       "2           3 -76.996185  38.927922  7/31/13 0:00  MIDNIGHT  OTHERS   \n",
       "3           4 -76.943078  38.883686  1/31/13 0:00  MIDNIGHT     GUN   \n",
       "4           5 -76.939209  38.892278   7/8/13 0:00  MIDNIGHT  OTHERS   \n",
       "\n",
       "     OFFENSE  DISTRICT NEIGHBORHOOD_CLUSTER VOTING_PRECINCT  YEAR  MONTH  DAY  \\\n",
       "0   HOMICIDE       1.0            Cluster 9    Precinct 127  2013      4   16   \n",
       "1  SEX ABUSE       2.0            Cluster 5      Precinct 3  2013      2   27   \n",
       "2   HOMICIDE       5.0           Cluster 21     Precinct 74  2013      7   31   \n",
       "3   HOMICIDE       6.0           Cluster 33    Precinct 103  2013      1   31   \n",
       "4  SEX ABUSE       6.0           Cluster 33     Precinct 99  2013      7    8   \n",
       "\n",
       "   CLUSTER  \n",
       "0      9.0  \n",
       "1      5.0  \n",
       "2     21.0  \n",
       "3     33.0  \n",
       "4     33.0  "
      ]
     },
     "execution_count": 4,
     "metadata": {},
     "output_type": "execute_result"
    }
   ],
   "source": [
    "crime.head()"
   ]
  },
  {
   "cell_type": "markdown",
   "metadata": {},
   "source": [
    "DATAPREPROCESSING:\n",
    "\n",
    "Since I am going to use a Logistic Regression I will add a column that has a true/false answer to whether or not the crime is violent. True will be represented as '1' and False will be represented as '0'."
   ]
  },
  {
   "cell_type": "code",
   "execution_count": 5,
   "metadata": {},
   "outputs": [],
   "source": [
    "#The function query is used from pandas, to gather the violent crimes from the dataset crime.\n",
    "#Violent Crimes= HOMOCIDE, ASSAULT W/DANGEROUS WEAPON, SEX ABUSE\n",
    "DC_HOMICIDE=crime.query('OFFENSE==\"HOMICIDE\"')\n",
    "DC_ASSAULT = crime.query('OFFENSE == \"ASSAULT W/DANGEROUS WEAPON\"')\n",
    "DC_ABUSE = crime.query('OFFENSE == \"SEX ABUSE\"')"
   ]
  },
  {
   "cell_type": "code",
   "execution_count": 6,
   "metadata": {},
   "outputs": [],
   "source": [
    "#After using the query function, data is joined by the append function to a new dataframe labeled, 'VIOLENT_crime'\n",
    "VIOLENT_crime = DC_HOMICIDE.append(DC_ASSAULT).append(DC_ABUSE)"
   ]
  },
  {
   "cell_type": "code",
   "execution_count": 7,
   "metadata": {},
   "outputs": [],
   "source": [
    "#A new column is added to the violent crime dataframe, labeled CRIMETYPE and all values are given a 1.\n",
    "#resulting dataframe is labeled, 'v'\n",
    "v=VIOLENT_crime.assign(CRIMETYPE=int(1))"
   ]
  },
  {
   "cell_type": "code",
   "execution_count": 8,
   "metadata": {
    "scrolled": false
   },
   "outputs": [
    {
     "data": {
      "text/html": [
       "<div>\n",
       "<style scoped>\n",
       "    .dataframe tbody tr th:only-of-type {\n",
       "        vertical-align: middle;\n",
       "    }\n",
       "\n",
       "    .dataframe tbody tr th {\n",
       "        vertical-align: top;\n",
       "    }\n",
       "\n",
       "    .dataframe thead th {\n",
       "        text-align: right;\n",
       "    }\n",
       "</style>\n",
       "<table border=\"1\" class=\"dataframe\">\n",
       "  <thead>\n",
       "    <tr style=\"text-align: right;\">\n",
       "      <th></th>\n",
       "      <th>Unnamed: 0</th>\n",
       "      <th>X</th>\n",
       "      <th>Y</th>\n",
       "      <th>REPORT_DAT</th>\n",
       "      <th>SHIFT</th>\n",
       "      <th>METHOD</th>\n",
       "      <th>OFFENSE</th>\n",
       "      <th>DISTRICT</th>\n",
       "      <th>NEIGHBORHOOD_CLUSTER</th>\n",
       "      <th>VOTING_PRECINCT</th>\n",
       "      <th>YEAR</th>\n",
       "      <th>MONTH</th>\n",
       "      <th>DAY</th>\n",
       "      <th>CLUSTER</th>\n",
       "      <th>CRIMETYPE</th>\n",
       "    </tr>\n",
       "  </thead>\n",
       "  <tbody>\n",
       "    <tr>\n",
       "      <th>0</th>\n",
       "      <td>1</td>\n",
       "      <td>-77.012183</td>\n",
       "      <td>38.871394</td>\n",
       "      <td>4/16/13 0:00</td>\n",
       "      <td>MIDNIGHT</td>\n",
       "      <td>KNIFE</td>\n",
       "      <td>HOMICIDE</td>\n",
       "      <td>1.0</td>\n",
       "      <td>Cluster 9</td>\n",
       "      <td>Precinct 127</td>\n",
       "      <td>2013</td>\n",
       "      <td>4</td>\n",
       "      <td>16</td>\n",
       "      <td>9.0</td>\n",
       "      <td>1</td>\n",
       "    </tr>\n",
       "    <tr>\n",
       "      <th>2</th>\n",
       "      <td>3</td>\n",
       "      <td>-76.996185</td>\n",
       "      <td>38.927922</td>\n",
       "      <td>7/31/13 0:00</td>\n",
       "      <td>MIDNIGHT</td>\n",
       "      <td>OTHERS</td>\n",
       "      <td>HOMICIDE</td>\n",
       "      <td>5.0</td>\n",
       "      <td>Cluster 21</td>\n",
       "      <td>Precinct 74</td>\n",
       "      <td>2013</td>\n",
       "      <td>7</td>\n",
       "      <td>31</td>\n",
       "      <td>21.0</td>\n",
       "      <td>1</td>\n",
       "    </tr>\n",
       "    <tr>\n",
       "      <th>3</th>\n",
       "      <td>4</td>\n",
       "      <td>-76.943078</td>\n",
       "      <td>38.883686</td>\n",
       "      <td>1/31/13 0:00</td>\n",
       "      <td>MIDNIGHT</td>\n",
       "      <td>GUN</td>\n",
       "      <td>HOMICIDE</td>\n",
       "      <td>6.0</td>\n",
       "      <td>Cluster 33</td>\n",
       "      <td>Precinct 103</td>\n",
       "      <td>2013</td>\n",
       "      <td>1</td>\n",
       "      <td>31</td>\n",
       "      <td>33.0</td>\n",
       "      <td>1</td>\n",
       "    </tr>\n",
       "    <tr>\n",
       "      <th>550</th>\n",
       "      <td>551</td>\n",
       "      <td>-76.965840</td>\n",
       "      <td>38.860318</td>\n",
       "      <td>1/10/13 0:00</td>\n",
       "      <td>MIDNIGHT</td>\n",
       "      <td>KNIFE</td>\n",
       "      <td>HOMICIDE</td>\n",
       "      <td>6.0</td>\n",
       "      <td>Cluster 35</td>\n",
       "      <td>Precinct 113</td>\n",
       "      <td>2013</td>\n",
       "      <td>1</td>\n",
       "      <td>10</td>\n",
       "      <td>35.0</td>\n",
       "      <td>1</td>\n",
       "    </tr>\n",
       "    <tr>\n",
       "      <th>841</th>\n",
       "      <td>842</td>\n",
       "      <td>-77.019905</td>\n",
       "      <td>38.960170</td>\n",
       "      <td>1/25/13 0:00</td>\n",
       "      <td>MIDNIGHT</td>\n",
       "      <td>GUN</td>\n",
       "      <td>HOMICIDE</td>\n",
       "      <td>4.0</td>\n",
       "      <td>Cluster 17</td>\n",
       "      <td>Precinct 58</td>\n",
       "      <td>2013</td>\n",
       "      <td>1</td>\n",
       "      <td>25</td>\n",
       "      <td>17.0</td>\n",
       "      <td>1</td>\n",
       "    </tr>\n",
       "  </tbody>\n",
       "</table>\n",
       "</div>"
      ],
      "text/plain": [
       "     Unnamed: 0          X          Y    REPORT_DAT     SHIFT  METHOD  \\\n",
       "0             1 -77.012183  38.871394  4/16/13 0:00  MIDNIGHT   KNIFE   \n",
       "2             3 -76.996185  38.927922  7/31/13 0:00  MIDNIGHT  OTHERS   \n",
       "3             4 -76.943078  38.883686  1/31/13 0:00  MIDNIGHT     GUN   \n",
       "550         551 -76.965840  38.860318  1/10/13 0:00  MIDNIGHT   KNIFE   \n",
       "841         842 -77.019905  38.960170  1/25/13 0:00  MIDNIGHT     GUN   \n",
       "\n",
       "      OFFENSE  DISTRICT NEIGHBORHOOD_CLUSTER VOTING_PRECINCT  YEAR  MONTH  \\\n",
       "0    HOMICIDE       1.0            Cluster 9    Precinct 127  2013      4   \n",
       "2    HOMICIDE       5.0           Cluster 21     Precinct 74  2013      7   \n",
       "3    HOMICIDE       6.0           Cluster 33    Precinct 103  2013      1   \n",
       "550  HOMICIDE       6.0           Cluster 35    Precinct 113  2013      1   \n",
       "841  HOMICIDE       4.0           Cluster 17     Precinct 58  2013      1   \n",
       "\n",
       "     DAY  CLUSTER  CRIMETYPE  \n",
       "0     16      9.0          1  \n",
       "2     31     21.0          1  \n",
       "3     31     33.0          1  \n",
       "550   10     35.0          1  \n",
       "841   25     17.0          1  "
      ]
     },
     "execution_count": 8,
     "metadata": {},
     "output_type": "execute_result"
    }
   ],
   "source": [
    "#View first five rows of dataframe v\n",
    "v.head()"
   ]
  },
  {
   "cell_type": "code",
   "execution_count": 9,
   "metadata": {},
   "outputs": [],
   "source": [
    "#The function query is used from pandas, to gather the nonviolent crimes from the dataset crime.\n",
    "#NonViolent Crimes= BURGLARY, MOTOR VEHICLE THEFT, ROBBERY, THEFT F/AUTO, THEFT /OTHER\n",
    "DC_BURGLARY=crime.query('OFFENSE==\"BURGLARY\"')\n",
    "DC_MOTOR = crime.query('OFFENSE == \"MOTOR VEHICLE THEFT\"')\n",
    "DC_ROBBERY = crime.query('OFFENSE == \"ROBBERY\"')\n",
    "DC_THEFTAU = crime.query('OFFENSE == \"THEFT F/AUTO\"')\n",
    "DC_THEFTOTH = crime.query('OFFENSE == \"THEFT /OTHER\"')"
   ]
  },
  {
   "cell_type": "code",
   "execution_count": 10,
   "metadata": {},
   "outputs": [],
   "source": [
    "#After using the query function, data is joined by the append function to a new dataframe labeled, 'NONVIOLENT_crime'\n",
    "NONVIOLENT_crime = DC_BURGLARY.append(DC_MOTOR).append(DC_ROBBERY).append(DC_THEFTAU).append(DC_THEFTOTH)"
   ]
  },
  {
   "cell_type": "code",
   "execution_count": 11,
   "metadata": {},
   "outputs": [],
   "source": [
    "#A new column is added to the nonviolent crime dataframe, labeled CRIMETYPE and all values are given a 0.\n",
    "#resulting dataframe is labeled, 'nv'\n",
    "nv=NONVIOLENT_crime.assign(CRIMETYPE=int(0))"
   ]
  },
  {
   "cell_type": "code",
   "execution_count": 12,
   "metadata": {},
   "outputs": [],
   "source": [
    "#Both dataframes 'n' and 'nv' are joined together to make dataframe 'DC_CRIME'\n",
    "DC_CRIME=v.append(nv)"
   ]
  },
  {
   "cell_type": "code",
   "execution_count": 13,
   "metadata": {
    "scrolled": true
   },
   "outputs": [
    {
     "data": {
      "text/plain": [
       "<matplotlib.axes._subplots.AxesSubplot at 0x10425bb00>"
      ]
     },
     "execution_count": 13,
     "metadata": {},
     "output_type": "execute_result"
    },
    {
     "data": {
      "image/png": "[encoded data removed]",
      "text/plain": [
       "<Figure size 432x288 with 1 Axes>"
      ]
     },
     "metadata": {
      "needs_background": "light"
     },
     "output_type": "display_data"
    }
   ],
   "source": [
    "#Plot CRIMETYPE in a count plot to be sure there are only two types of output (1 and 0)\n",
    "sns.countplot(x='CRIMETYPE',data=DC_CRIME, palette='hls')"
   ]
  },
  {
   "cell_type": "code",
   "execution_count": 14,
   "metadata": {},
   "outputs": [],
   "source": [
    "#DC_CRIME.isnull().sum()"
   ]
  },
  {
   "cell_type": "code",
   "execution_count": 15,
   "metadata": {},
   "outputs": [
    {
     "name": "stdout",
     "output_type": "stream",
     "text": [
      "<class 'pandas.core.frame.DataFrame'>\n",
      "Int64Index: 111084 entries, 0 to 181820\n",
      "Data columns (total 15 columns):\n",
      "Unnamed: 0              111084 non-null int64\n",
      "X                       111084 non-null float64\n",
      "Y                       111084 non-null float64\n",
      "REPORT_DAT              111084 non-null object\n",
      "SHIFT                   111084 non-null object\n",
      "METHOD                  111084 non-null object\n",
      "OFFENSE                 111084 non-null object\n",
      "DISTRICT                111004 non-null float64\n",
      "NEIGHBORHOOD_CLUSTER    109860 non-null object\n",
      "VOTING_PRECINCT         111057 non-null object\n",
      "YEAR                    111084 non-null int64\n",
      "MONTH                   111084 non-null int64\n",
      "DAY                     111084 non-null int64\n",
      "CLUSTER                 109860 non-null float64\n",
      "CRIMETYPE               111084 non-null int64\n",
      "dtypes: float64(4), int64(5), object(6)\n",
      "memory usage: 18.6+ MB\n"
     ]
    }
   ],
   "source": [
    "#Shows how many records are in the dataset and what variables are available.\n",
    "DC_CRIME.info()"
   ]
  },
  {
   "cell_type": "code",
   "execution_count": 16,
   "metadata": {},
   "outputs": [
    {
     "data": {
      "text/html": [
       "<div>\n",
       "<style scoped>\n",
       "    .dataframe tbody tr th:only-of-type {\n",
       "        vertical-align: middle;\n",
       "    }\n",
       "\n",
       "    .dataframe tbody tr th {\n",
       "        vertical-align: top;\n",
       "    }\n",
       "\n",
       "    .dataframe thead th {\n",
       "        text-align: right;\n",
       "    }\n",
       "</style>\n",
       "<table border=\"1\" class=\"dataframe\">\n",
       "  <thead>\n",
       "    <tr style=\"text-align: right;\">\n",
       "      <th></th>\n",
       "      <th>Unnamed: 0</th>\n",
       "      <th>X</th>\n",
       "      <th>Y</th>\n",
       "      <th>REPORT_DAT</th>\n",
       "      <th>SHIFT</th>\n",
       "      <th>METHOD</th>\n",
       "      <th>OFFENSE</th>\n",
       "      <th>DISTRICT</th>\n",
       "      <th>NEIGHBORHOOD_CLUSTER</th>\n",
       "      <th>VOTING_PRECINCT</th>\n",
       "      <th>YEAR</th>\n",
       "      <th>MONTH</th>\n",
       "      <th>DAY</th>\n",
       "      <th>CLUSTER</th>\n",
       "      <th>CRIMETYPE</th>\n",
       "    </tr>\n",
       "  </thead>\n",
       "  <tbody>\n",
       "    <tr>\n",
       "      <th>0</th>\n",
       "      <td>1</td>\n",
       "      <td>-77.012183</td>\n",
       "      <td>38.871394</td>\n",
       "      <td>4/16/13 0:00</td>\n",
       "      <td>MIDNIGHT</td>\n",
       "      <td>KNIFE</td>\n",
       "      <td>HOMICIDE</td>\n",
       "      <td>1.0</td>\n",
       "      <td>Cluster 9</td>\n",
       "      <td>Precinct 127</td>\n",
       "      <td>2013</td>\n",
       "      <td>4</td>\n",
       "      <td>16</td>\n",
       "      <td>9.0</td>\n",
       "      <td>1</td>\n",
       "    </tr>\n",
       "    <tr>\n",
       "      <th>2</th>\n",
       "      <td>3</td>\n",
       "      <td>-76.996185</td>\n",
       "      <td>38.927922</td>\n",
       "      <td>7/31/13 0:00</td>\n",
       "      <td>MIDNIGHT</td>\n",
       "      <td>OTHERS</td>\n",
       "      <td>HOMICIDE</td>\n",
       "      <td>5.0</td>\n",
       "      <td>Cluster 21</td>\n",
       "      <td>Precinct 74</td>\n",
       "      <td>2013</td>\n",
       "      <td>7</td>\n",
       "      <td>31</td>\n",
       "      <td>21.0</td>\n",
       "      <td>1</td>\n",
       "    </tr>\n",
       "    <tr>\n",
       "      <th>3</th>\n",
       "      <td>4</td>\n",
       "      <td>-76.943078</td>\n",
       "      <td>38.883686</td>\n",
       "      <td>1/31/13 0:00</td>\n",
       "      <td>MIDNIGHT</td>\n",
       "      <td>GUN</td>\n",
       "      <td>HOMICIDE</td>\n",
       "      <td>6.0</td>\n",
       "      <td>Cluster 33</td>\n",
       "      <td>Precinct 103</td>\n",
       "      <td>2013</td>\n",
       "      <td>1</td>\n",
       "      <td>31</td>\n",
       "      <td>33.0</td>\n",
       "      <td>1</td>\n",
       "    </tr>\n",
       "    <tr>\n",
       "      <th>550</th>\n",
       "      <td>551</td>\n",
       "      <td>-76.965840</td>\n",
       "      <td>38.860318</td>\n",
       "      <td>1/10/13 0:00</td>\n",
       "      <td>MIDNIGHT</td>\n",
       "      <td>KNIFE</td>\n",
       "      <td>HOMICIDE</td>\n",
       "      <td>6.0</td>\n",
       "      <td>Cluster 35</td>\n",
       "      <td>Precinct 113</td>\n",
       "      <td>2013</td>\n",
       "      <td>1</td>\n",
       "      <td>10</td>\n",
       "      <td>35.0</td>\n",
       "      <td>1</td>\n",
       "    </tr>\n",
       "    <tr>\n",
       "      <th>841</th>\n",
       "      <td>842</td>\n",
       "      <td>-77.019905</td>\n",
       "      <td>38.960170</td>\n",
       "      <td>1/25/13 0:00</td>\n",
       "      <td>MIDNIGHT</td>\n",
       "      <td>GUN</td>\n",
       "      <td>HOMICIDE</td>\n",
       "      <td>4.0</td>\n",
       "      <td>Cluster 17</td>\n",
       "      <td>Precinct 58</td>\n",
       "      <td>2013</td>\n",
       "      <td>1</td>\n",
       "      <td>25</td>\n",
       "      <td>17.0</td>\n",
       "      <td>1</td>\n",
       "    </tr>\n",
       "  </tbody>\n",
       "</table>\n",
       "</div>"
      ],
      "text/plain": [
       "     Unnamed: 0          X          Y    REPORT_DAT     SHIFT  METHOD  \\\n",
       "0             1 -77.012183  38.871394  4/16/13 0:00  MIDNIGHT   KNIFE   \n",
       "2             3 -76.996185  38.927922  7/31/13 0:00  MIDNIGHT  OTHERS   \n",
       "3             4 -76.943078  38.883686  1/31/13 0:00  MIDNIGHT     GUN   \n",
       "550         551 -76.965840  38.860318  1/10/13 0:00  MIDNIGHT   KNIFE   \n",
       "841         842 -77.019905  38.960170  1/25/13 0:00  MIDNIGHT     GUN   \n",
       "\n",
       "      OFFENSE  DISTRICT NEIGHBORHOOD_CLUSTER VOTING_PRECINCT  YEAR  MONTH  \\\n",
       "0    HOMICIDE       1.0            Cluster 9    Precinct 127  2013      4   \n",
       "2    HOMICIDE       5.0           Cluster 21     Precinct 74  2013      7   \n",
       "3    HOMICIDE       6.0           Cluster 33    Precinct 103  2013      1   \n",
       "550  HOMICIDE       6.0           Cluster 35    Precinct 113  2013      1   \n",
       "841  HOMICIDE       4.0           Cluster 17     Precinct 58  2013      1   \n",
       "\n",
       "     DAY  CLUSTER  CRIMETYPE  \n",
       "0     16      9.0          1  \n",
       "2     31     21.0          1  \n",
       "3     31     33.0          1  \n",
       "550   10     35.0          1  \n",
       "841   25     17.0          1  "
      ]
     },
     "execution_count": 16,
     "metadata": {},
     "output_type": "execute_result"
    }
   ],
   "source": [
    "#Looks at the first five rows of DC_CRIME.\n",
    "DC_CRIME.head()"
   ]
  },
  {
   "cell_type": "code",
   "execution_count": 17,
   "metadata": {},
   "outputs": [
    {
     "data": {
      "text/html": [
       "<div>\n",
       "<style scoped>\n",
       "    .dataframe tbody tr th:only-of-type {\n",
       "        vertical-align: middle;\n",
       "    }\n",
       "\n",
       "    .dataframe tbody tr th {\n",
       "        vertical-align: top;\n",
       "    }\n",
       "\n",
       "    .dataframe thead th {\n",
       "        text-align: right;\n",
       "    }\n",
       "</style>\n",
       "<table border=\"1\" class=\"dataframe\">\n",
       "  <thead>\n",
       "    <tr style=\"text-align: right;\">\n",
       "      <th></th>\n",
       "      <th>GUN</th>\n",
       "      <th>KNIFE</th>\n",
       "      <th>OTHERS</th>\n",
       "    </tr>\n",
       "  </thead>\n",
       "  <tbody>\n",
       "    <tr>\n",
       "      <th>0</th>\n",
       "      <td>0</td>\n",
       "      <td>1</td>\n",
       "      <td>0</td>\n",
       "    </tr>\n",
       "    <tr>\n",
       "      <th>2</th>\n",
       "      <td>0</td>\n",
       "      <td>0</td>\n",
       "      <td>1</td>\n",
       "    </tr>\n",
       "    <tr>\n",
       "      <th>3</th>\n",
       "      <td>1</td>\n",
       "      <td>0</td>\n",
       "      <td>0</td>\n",
       "    </tr>\n",
       "    <tr>\n",
       "      <th>550</th>\n",
       "      <td>0</td>\n",
       "      <td>1</td>\n",
       "      <td>0</td>\n",
       "    </tr>\n",
       "    <tr>\n",
       "      <th>841</th>\n",
       "      <td>1</td>\n",
       "      <td>0</td>\n",
       "      <td>0</td>\n",
       "    </tr>\n",
       "  </tbody>\n",
       "</table>\n",
       "</div>"
      ],
      "text/plain": [
       "     GUN  KNIFE  OTHERS\n",
       "0      0      1       0\n",
       "2      0      0       1\n",
       "3      1      0       0\n",
       "550    0      1       0\n",
       "841    1      0       0"
      ]
     },
     "execution_count": 17,
     "metadata": {},
     "output_type": "execute_result"
    }
   ],
   "source": [
    "#Changes categorical variables to indicators, known as dummy indicators.\n",
    "method = pd.get_dummies(DC_CRIME['METHOD'])\n",
    "method.head()"
   ]
  },
  {
   "cell_type": "code",
   "execution_count": 18,
   "metadata": {},
   "outputs": [
    {
     "data": {
      "text/html": [
       "<div>\n",
       "<style scoped>\n",
       "    .dataframe tbody tr th:only-of-type {\n",
       "        vertical-align: middle;\n",
       "    }\n",
       "\n",
       "    .dataframe tbody tr th {\n",
       "        vertical-align: top;\n",
       "    }\n",
       "\n",
       "    .dataframe thead th {\n",
       "        text-align: right;\n",
       "    }\n",
       "</style>\n",
       "<table border=\"1\" class=\"dataframe\">\n",
       "  <thead>\n",
       "    <tr style=\"text-align: right;\">\n",
       "      <th></th>\n",
       "      <th>DAY</th>\n",
       "      <th>EVENING</th>\n",
       "      <th>MIDNIGHT</th>\n",
       "    </tr>\n",
       "  </thead>\n",
       "  <tbody>\n",
       "    <tr>\n",
       "      <th>0</th>\n",
       "      <td>0</td>\n",
       "      <td>0</td>\n",
       "      <td>1</td>\n",
       "    </tr>\n",
       "    <tr>\n",
       "      <th>2</th>\n",
       "      <td>0</td>\n",
       "      <td>0</td>\n",
       "      <td>1</td>\n",
       "    </tr>\n",
       "    <tr>\n",
       "      <th>3</th>\n",
       "      <td>0</td>\n",
       "      <td>0</td>\n",
       "      <td>1</td>\n",
       "    </tr>\n",
       "    <tr>\n",
       "      <th>550</th>\n",
       "      <td>0</td>\n",
       "      <td>0</td>\n",
       "      <td>1</td>\n",
       "    </tr>\n",
       "    <tr>\n",
       "      <th>841</th>\n",
       "      <td>0</td>\n",
       "      <td>0</td>\n",
       "      <td>1</td>\n",
       "    </tr>\n",
       "  </tbody>\n",
       "</table>\n",
       "</div>"
      ],
      "text/plain": [
       "     DAY  EVENING  MIDNIGHT\n",
       "0      0        0         1\n",
       "2      0        0         1\n",
       "3      0        0         1\n",
       "550    0        0         1\n",
       "841    0        0         1"
      ]
     },
     "execution_count": 18,
     "metadata": {},
     "output_type": "execute_result"
    }
   ],
   "source": [
    "#Changes categorical variables to indicators, known as dummy indicators.\n",
    "shift = pd.get_dummies(DC_CRIME['SHIFT'])\n",
    "shift.head()"
   ]
  },
  {
   "cell_type": "code",
   "execution_count": 19,
   "metadata": {},
   "outputs": [
    {
     "data": {
      "text/html": [
       "<div>\n",
       "<style scoped>\n",
       "    .dataframe tbody tr th:only-of-type {\n",
       "        vertical-align: middle;\n",
       "    }\n",
       "\n",
       "    .dataframe tbody tr th {\n",
       "        vertical-align: top;\n",
       "    }\n",
       "\n",
       "    .dataframe thead th {\n",
       "        text-align: right;\n",
       "    }\n",
       "</style>\n",
       "<table border=\"1\" class=\"dataframe\">\n",
       "  <thead>\n",
       "    <tr style=\"text-align: right;\">\n",
       "      <th></th>\n",
       "      <th>Unnamed: 0</th>\n",
       "      <th>X</th>\n",
       "      <th>Y</th>\n",
       "      <th>OFFENSE</th>\n",
       "      <th>DISTRICT</th>\n",
       "      <th>NEIGHBORHOOD_CLUSTER</th>\n",
       "      <th>YEAR</th>\n",
       "      <th>MONTH</th>\n",
       "      <th>DAY</th>\n",
       "      <th>CLUSTER</th>\n",
       "      <th>CRIMETYPE</th>\n",
       "    </tr>\n",
       "  </thead>\n",
       "  <tbody>\n",
       "    <tr>\n",
       "      <th>0</th>\n",
       "      <td>1</td>\n",
       "      <td>-77.012183</td>\n",
       "      <td>38.871394</td>\n",
       "      <td>HOMICIDE</td>\n",
       "      <td>1.0</td>\n",
       "      <td>Cluster 9</td>\n",
       "      <td>2013</td>\n",
       "      <td>4</td>\n",
       "      <td>16</td>\n",
       "      <td>9.0</td>\n",
       "      <td>1</td>\n",
       "    </tr>\n",
       "    <tr>\n",
       "      <th>2</th>\n",
       "      <td>3</td>\n",
       "      <td>-76.996185</td>\n",
       "      <td>38.927922</td>\n",
       "      <td>HOMICIDE</td>\n",
       "      <td>5.0</td>\n",
       "      <td>Cluster 21</td>\n",
       "      <td>2013</td>\n",
       "      <td>7</td>\n",
       "      <td>31</td>\n",
       "      <td>21.0</td>\n",
       "      <td>1</td>\n",
       "    </tr>\n",
       "    <tr>\n",
       "      <th>3</th>\n",
       "      <td>4</td>\n",
       "      <td>-76.943078</td>\n",
       "      <td>38.883686</td>\n",
       "      <td>HOMICIDE</td>\n",
       "      <td>6.0</td>\n",
       "      <td>Cluster 33</td>\n",
       "      <td>2013</td>\n",
       "      <td>1</td>\n",
       "      <td>31</td>\n",
       "      <td>33.0</td>\n",
       "      <td>1</td>\n",
       "    </tr>\n",
       "    <tr>\n",
       "      <th>550</th>\n",
       "      <td>551</td>\n",
       "      <td>-76.965840</td>\n",
       "      <td>38.860318</td>\n",
       "      <td>HOMICIDE</td>\n",
       "      <td>6.0</td>\n",
       "      <td>Cluster 35</td>\n",
       "      <td>2013</td>\n",
       "      <td>1</td>\n",
       "      <td>10</td>\n",
       "      <td>35.0</td>\n",
       "      <td>1</td>\n",
       "    </tr>\n",
       "    <tr>\n",
       "      <th>841</th>\n",
       "      <td>842</td>\n",
       "      <td>-77.019905</td>\n",
       "      <td>38.960170</td>\n",
       "      <td>HOMICIDE</td>\n",
       "      <td>4.0</td>\n",
       "      <td>Cluster 17</td>\n",
       "      <td>2013</td>\n",
       "      <td>1</td>\n",
       "      <td>25</td>\n",
       "      <td>17.0</td>\n",
       "      <td>1</td>\n",
       "    </tr>\n",
       "  </tbody>\n",
       "</table>\n",
       "</div>"
      ],
      "text/plain": [
       "     Unnamed: 0          X          Y   OFFENSE  DISTRICT  \\\n",
       "0             1 -77.012183  38.871394  HOMICIDE       1.0   \n",
       "2             3 -76.996185  38.927922  HOMICIDE       5.0   \n",
       "3             4 -76.943078  38.883686  HOMICIDE       6.0   \n",
       "550         551 -76.965840  38.860318  HOMICIDE       6.0   \n",
       "841         842 -77.019905  38.960170  HOMICIDE       4.0   \n",
       "\n",
       "    NEIGHBORHOOD_CLUSTER  YEAR  MONTH  DAY  CLUSTER  CRIMETYPE  \n",
       "0              Cluster 9  2013      4   16      9.0          1  \n",
       "2             Cluster 21  2013      7   31     21.0          1  \n",
       "3             Cluster 33  2013      1   31     33.0          1  \n",
       "550           Cluster 35  2013      1   10     35.0          1  \n",
       "841           Cluster 17  2013      1   25     17.0          1  "
      ]
     },
     "execution_count": 19,
     "metadata": {},
     "output_type": "execute_result"
    }
   ],
   "source": [
    "#Drops the categorical variable columns from above and two other columns completely.\n",
    "DC_CRIME.drop(['SHIFT', 'METHOD', 'REPORT_DAT', 'VOTING_PRECINCT'], axis = 1, inplace=True)\n",
    "DC_CRIME.head()"
   ]
  },
  {
   "cell_type": "code",
   "execution_count": 20,
   "metadata": {},
   "outputs": [
    {
     "data": {
      "text/html": [
       "<div>\n",
       "<style scoped>\n",
       "    .dataframe tbody tr th:only-of-type {\n",
       "        vertical-align: middle;\n",
       "    }\n",
       "\n",
       "    .dataframe tbody tr th {\n",
       "        vertical-align: top;\n",
       "    }\n",
       "\n",
       "    .dataframe thead th {\n",
       "        text-align: right;\n",
       "    }\n",
       "</style>\n",
       "<table border=\"1\" class=\"dataframe\">\n",
       "  <thead>\n",
       "    <tr style=\"text-align: right;\">\n",
       "      <th></th>\n",
       "      <th>Unnamed: 0</th>\n",
       "      <th>X</th>\n",
       "      <th>Y</th>\n",
       "      <th>OFFENSE</th>\n",
       "      <th>DISTRICT</th>\n",
       "      <th>NEIGHBORHOOD_CLUSTER</th>\n",
       "      <th>YEAR</th>\n",
       "      <th>MONTH</th>\n",
       "      <th>DAY</th>\n",
       "      <th>CLUSTER</th>\n",
       "      <th>CRIMETYPE</th>\n",
       "      <th>DAY</th>\n",
       "      <th>EVENING</th>\n",
       "      <th>MIDNIGHT</th>\n",
       "      <th>GUN</th>\n",
       "      <th>KNIFE</th>\n",
       "      <th>OTHERS</th>\n",
       "    </tr>\n",
       "  </thead>\n",
       "  <tbody>\n",
       "    <tr>\n",
       "      <th>0</th>\n",
       "      <td>1</td>\n",
       "      <td>-77.012183</td>\n",
       "      <td>38.871394</td>\n",
       "      <td>HOMICIDE</td>\n",
       "      <td>1.0</td>\n",
       "      <td>Cluster 9</td>\n",
       "      <td>2013</td>\n",
       "      <td>4</td>\n",
       "      <td>16</td>\n",
       "      <td>9.0</td>\n",
       "      <td>1</td>\n",
       "      <td>0</td>\n",
       "      <td>0</td>\n",
       "      <td>1</td>\n",
       "      <td>0</td>\n",
       "      <td>1</td>\n",
       "      <td>0</td>\n",
       "    </tr>\n",
       "    <tr>\n",
       "      <th>2</th>\n",
       "      <td>3</td>\n",
       "      <td>-76.996185</td>\n",
       "      <td>38.927922</td>\n",
       "      <td>HOMICIDE</td>\n",
       "      <td>5.0</td>\n",
       "      <td>Cluster 21</td>\n",
       "      <td>2013</td>\n",
       "      <td>7</td>\n",
       "      <td>31</td>\n",
       "      <td>21.0</td>\n",
       "      <td>1</td>\n",
       "      <td>0</td>\n",
       "      <td>0</td>\n",
       "      <td>1</td>\n",
       "      <td>0</td>\n",
       "      <td>0</td>\n",
       "      <td>1</td>\n",
       "    </tr>\n",
       "    <tr>\n",
       "      <th>3</th>\n",
       "      <td>4</td>\n",
       "      <td>-76.943078</td>\n",
       "      <td>38.883686</td>\n",
       "      <td>HOMICIDE</td>\n",
       "      <td>6.0</td>\n",
       "      <td>Cluster 33</td>\n",
       "      <td>2013</td>\n",
       "      <td>1</td>\n",
       "      <td>31</td>\n",
       "      <td>33.0</td>\n",
       "      <td>1</td>\n",
       "      <td>0</td>\n",
       "      <td>0</td>\n",
       "      <td>1</td>\n",
       "      <td>1</td>\n",
       "      <td>0</td>\n",
       "      <td>0</td>\n",
       "    </tr>\n",
       "    <tr>\n",
       "      <th>550</th>\n",
       "      <td>551</td>\n",
       "      <td>-76.965840</td>\n",
       "      <td>38.860318</td>\n",
       "      <td>HOMICIDE</td>\n",
       "      <td>6.0</td>\n",
       "      <td>Cluster 35</td>\n",
       "      <td>2013</td>\n",
       "      <td>1</td>\n",
       "      <td>10</td>\n",
       "      <td>35.0</td>\n",
       "      <td>1</td>\n",
       "      <td>0</td>\n",
       "      <td>0</td>\n",
       "      <td>1</td>\n",
       "      <td>0</td>\n",
       "      <td>1</td>\n",
       "      <td>0</td>\n",
       "    </tr>\n",
       "    <tr>\n",
       "      <th>841</th>\n",
       "      <td>842</td>\n",
       "      <td>-77.019905</td>\n",
       "      <td>38.960170</td>\n",
       "      <td>HOMICIDE</td>\n",
       "      <td>4.0</td>\n",
       "      <td>Cluster 17</td>\n",
       "      <td>2013</td>\n",
       "      <td>1</td>\n",
       "      <td>25</td>\n",
       "      <td>17.0</td>\n",
       "      <td>1</td>\n",
       "      <td>0</td>\n",
       "      <td>0</td>\n",
       "      <td>1</td>\n",
       "      <td>1</td>\n",
       "      <td>0</td>\n",
       "      <td>0</td>\n",
       "    </tr>\n",
       "  </tbody>\n",
       "</table>\n",
       "</div>"
      ],
      "text/plain": [
       "     Unnamed: 0          X          Y   OFFENSE  DISTRICT  \\\n",
       "0             1 -77.012183  38.871394  HOMICIDE       1.0   \n",
       "2             3 -76.996185  38.927922  HOMICIDE       5.0   \n",
       "3             4 -76.943078  38.883686  HOMICIDE       6.0   \n",
       "550         551 -76.965840  38.860318  HOMICIDE       6.0   \n",
       "841         842 -77.019905  38.960170  HOMICIDE       4.0   \n",
       "\n",
       "    NEIGHBORHOOD_CLUSTER  YEAR  MONTH  DAY  CLUSTER  CRIMETYPE  DAY  EVENING  \\\n",
       "0              Cluster 9  2013      4   16      9.0          1    0        0   \n",
       "2             Cluster 21  2013      7   31     21.0          1    0        0   \n",
       "3             Cluster 33  2013      1   31     33.0          1    0        0   \n",
       "550           Cluster 35  2013      1   10     35.0          1    0        0   \n",
       "841           Cluster 17  2013      1   25     17.0          1    0        0   \n",
       "\n",
       "     MIDNIGHT  GUN  KNIFE  OTHERS  \n",
       "0           1    0      1       0  \n",
       "2           1    0      0       1  \n",
       "3           1    1      0       0  \n",
       "550         1    0      1       0  \n",
       "841         1    1      0       0  "
      ]
     },
     "execution_count": 20,
     "metadata": {},
     "output_type": "execute_result"
    }
   ],
   "source": [
    "#Adds the dummy indicators to the dataset and renames the dataset 'DCcrime'.\n",
    "DCcrime = pd.concat([DC_CRIME,shift,method],axis=1)\n",
    "DCcrime.head()"
   ]
  },
  {
   "cell_type": "code",
   "execution_count": 21,
   "metadata": {},
   "outputs": [
    {
     "name": "stdout",
     "output_type": "stream",
     "text": [
      "<class 'pandas.core.frame.DataFrame'>\n",
      "Int64Index: 111084 entries, 0 to 181820\n",
      "Data columns (total 17 columns):\n",
      "Unnamed: 0              111084 non-null int64\n",
      "X                       111084 non-null float64\n",
      "Y                       111084 non-null float64\n",
      "OFFENSE                 111084 non-null object\n",
      "DISTRICT                111004 non-null float64\n",
      "NEIGHBORHOOD_CLUSTER    109860 non-null object\n",
      "YEAR                    111084 non-null int64\n",
      "MONTH                   111084 non-null int64\n",
      "DAY                     111084 non-null int64\n",
      "CLUSTER                 109860 non-null float64\n",
      "CRIMETYPE               111084 non-null int64\n",
      "DAY                     111084 non-null uint8\n",
      "EVENING                 111084 non-null uint8\n",
      "MIDNIGHT                111084 non-null uint8\n",
      "GUN                     111084 non-null uint8\n",
      "KNIFE                   111084 non-null uint8\n",
      "OTHERS                  111084 non-null uint8\n",
      "dtypes: float64(4), int64(5), object(2), uint8(6)\n",
      "memory usage: 15.8+ MB\n"
     ]
    }
   ],
   "source": [
    "#Checks the variables again.\n",
    "DCcrime.info()"
   ]
  },
  {
   "cell_type": "code",
   "execution_count": 22,
   "metadata": {},
   "outputs": [],
   "source": [
    "#Querys out NEIGHBORHOOD_CLUSTER 39 because has the highest count of violent crimes.\n",
    "FIL_CLUS39 = DCcrime.query('NEIGHBORHOOD_CLUSTER == \"Cluster 39\"')"
   ]
  },
  {
   "cell_type": "code",
   "execution_count": 23,
   "metadata": {},
   "outputs": [],
   "source": [
    "#Querys out all other neighborhood clusters EXCEPT for NEIGHBORHOOD_CLUSTER 39 39\n",
    "oth_clus = DCcrime.query('NEIGHBORHOOD_CLUSTER != \"Cluster 39\"')"
   ]
  },
  {
   "cell_type": "code",
   "execution_count": 24,
   "metadata": {},
   "outputs": [],
   "source": [
    "#Assigns a new column named 'NCLUSTER' and gives each row a value of 1 for NEIGHBORHOOD_CLUSTER 39\n",
    "c39=FIL_CLUS39.assign(NCLUSTER=(1))"
   ]
  },
  {
   "cell_type": "code",
   "execution_count": 25,
   "metadata": {},
   "outputs": [],
   "source": [
    "#Assigns a new column named 'NCLUSTER' and gives each row a value of 0, except for NEIGHBORHOOD_CLUSTER 39\n",
    "n39=oth_clus.assign(NCLUSTER=(0))"
   ]
  },
  {
   "cell_type": "code",
   "execution_count": 26,
   "metadata": {},
   "outputs": [],
   "source": [
    "#Joins c39 and n36 datasets.\n",
    "FILTER_CLUS39=c39.append(n39)"
   ]
  },
  {
   "cell_type": "code",
   "execution_count": 27,
   "metadata": {},
   "outputs": [
    {
     "name": "stdout",
     "output_type": "stream",
     "text": [
      "<class 'pandas.core.frame.DataFrame'>\n",
      "Int64Index: 111084 entries, 5041 to 181820\n",
      "Data columns (total 18 columns):\n",
      "Unnamed: 0              111084 non-null int64\n",
      "X                       111084 non-null float64\n",
      "Y                       111084 non-null float64\n",
      "OFFENSE                 111084 non-null object\n",
      "DISTRICT                111004 non-null float64\n",
      "NEIGHBORHOOD_CLUSTER    109860 non-null object\n",
      "YEAR                    111084 non-null int64\n",
      "MONTH                   111084 non-null int64\n",
      "DAY                     111084 non-null int64\n",
      "CLUSTER                 109860 non-null float64\n",
      "CRIMETYPE               111084 non-null int64\n",
      "DAY                     111084 non-null uint8\n",
      "EVENING                 111084 non-null uint8\n",
      "MIDNIGHT                111084 non-null uint8\n",
      "GUN                     111084 non-null uint8\n",
      "KNIFE                   111084 non-null uint8\n",
      "OTHERS                  111084 non-null uint8\n",
      "NCLUSTER                111084 non-null int64\n",
      "dtypes: float64(4), int64(6), object(2), uint8(6)\n",
      "memory usage: 11.7+ MB\n"
     ]
    }
   ],
   "source": [
    "#Confirms variables again for dataset FILTER_CLUS39.\n",
    "FILTER_CLUS39.info()"
   ]
  },
  {
   "cell_type": "code",
   "execution_count": 28,
   "metadata": {
    "scrolled": true
   },
   "outputs": [
    {
     "data": {
      "text/plain": [
       "<matplotlib.axes._subplots.AxesSubplot at 0x11329ee10>"
      ]
     },
     "execution_count": 28,
     "metadata": {},
     "output_type": "execute_result"
    },
    {
     "data": {
      "image/png": "[encoded data removed]",
      "text/plain": [
       "<Figure size 432x288 with 2 Axes>"
      ]
     },
     "metadata": {
      "needs_background": "light"
     },
     "output_type": "display_data"
    }
   ],
   "source": [
    "#Makes a heatmap to identify any correalations\n",
    "sns.heatmap(FILTER_CLUS39.corr())"
   ]
  },
  {
   "cell_type": "markdown",
   "metadata": {},
   "source": [
    "## Results and conclusions"
   ]
  },
  {
   "cell_type": "markdown",
   "metadata": {},
   "source": [
    "For predictive data-driven models, you should present visualizations that help the reader to better understand \n",
    "the way the data is distributed in the dataset, i.e. perform a basic exploratory data analysis. \n",
    "Then when discussing the predictive model itself, your discussion and analysis should review the different scores \n",
    "you received for your model and then conclude which model seems to perform best. Statistical considerations, \n",
    "such as computing the standard error of the mean of cross-validated scores, should also be included."
   ]
  },
  {
   "cell_type": "code",
   "execution_count": 29,
   "metadata": {},
   "outputs": [],
   "source": [
    "#The first simulation run is to use 'NCLUSTER' as the feature.\n",
    "feature_cols = [ 'NCLUSTER']"
   ]
  },
  {
   "cell_type": "code",
   "execution_count": 30,
   "metadata": {},
   "outputs": [],
   "source": [
    "X=FILTER_CLUS39[feature_cols]\n",
    "#Y=FILTER_CLUS39['CRIMETYPE'].reshape(1, -1)"
   ]
  },
  {
   "cell_type": "code",
   "execution_count": 31,
   "metadata": {},
   "outputs": [],
   "source": [
    "#CRIMETYPE is placed as the target.\n",
    "#X=FILTER_CLUS39[['NEIGHBORHOOD_CLUSTER']]\n",
    "Y=pd.factorize(FILTER_CLUS39['CRIMETYPE'].values)[0].reshape(-1,1)"
   ]
  },
  {
   "cell_type": "code",
   "execution_count": 32,
   "metadata": {},
   "outputs": [],
   "source": [
    "#Optional way to write the above two lines of code.\n",
    "X=FILTER_CLUS39.iloc[:, 17].values\n",
    "y=FILTER_CLUS39.iloc[:, 10].values"
   ]
  },
  {
   "cell_type": "code",
   "execution_count": 33,
   "metadata": {},
   "outputs": [],
   "source": [
    "#Run the simulation"
   ]
  },
  {
   "cell_type": "code",
   "execution_count": 34,
   "metadata": {},
   "outputs": [],
   "source": [
    "\n",
    "X_train,X_test,y_train,y_test=train_test_split(Y,X,test_size=0.15,random_state=5)\n",
    "\n"
   ]
  },
  {
   "cell_type": "code",
   "execution_count": 35,
   "metadata": {},
   "outputs": [
    {
     "data": {
      "text/plain": [
       "LogisticRegression(C=1.0, class_weight=None, dual=False, fit_intercept=True,\n",
       "          intercept_scaling=1, max_iter=100, multi_class='ovr', n_jobs=1,\n",
       "          penalty='l2', random_state=None, solver='liblinear', tol=0.0001,\n",
       "          verbose=0, warm_start=False)"
      ]
     },
     "execution_count": 35,
     "metadata": {},
     "output_type": "execute_result"
    }
   ],
   "source": [
    "lr = LogisticRegression()\n",
    "\n",
    "# fit the model with data\n",
    "(lr.fit(X_train,y_train))"
   ]
  },
  {
   "cell_type": "code",
   "execution_count": 36,
   "metadata": {},
   "outputs": [],
   "source": [
    "y_pred=lr.predict(X_test)"
   ]
  },
  {
   "cell_type": "code",
   "execution_count": 37,
   "metadata": {
    "scrolled": true
   },
   "outputs": [
    {
     "data": {
      "text/plain": [
       "array([[15884,     0],\n",
       "       [  779,     0]])"
      ]
     },
     "execution_count": 37,
     "metadata": {},
     "output_type": "execute_result"
    }
   ],
   "source": [
    "\n",
    "cnf_matrix = metrics.confusion_matrix(y_test, y_pred)\n",
    "cnf_matrix"
   ]
  },
  {
   "cell_type": "markdown",
   "metadata": {},
   "source": [
    "The above array shows that using a specific neighborhood cluster (cluster 39), the model was able to predict 15,884 correct predictions of CRIMETYPE and 779 incorrect predictions of CRIMETYPE."
   ]
  },
  {
   "cell_type": "code",
   "execution_count": 38,
   "metadata": {
    "scrolled": false
   },
   "outputs": [
    {
     "data": {
      "text/plain": [
       "Text(33,0.5,'Actual label')"
      ]
     },
     "execution_count": 38,
     "metadata": {},
     "output_type": "execute_result"
    },
    {
     "data": {
      "image/png": "[encoded data removed]",
      "text/plain": [
       "<Figure size 432x288 with 2 Axes>"
      ]
     },
     "metadata": {
      "needs_background": "light"
     },
     "output_type": "display_data"
    }
   ],
   "source": [
    "class_nms=[0,1] \n",
    "fig, ax = plt.subplots()\n",
    "tick_marks = np.arange(len(class_nms))\n",
    "plt.xticks(tick_marks, class_nms)\n",
    "plt.yticks(tick_marks, class_nms)\n",
    "# create heatmap\n",
    "sns.heatmap(pd.DataFrame(cnf_matrix), annot=True, cmap=\"YlOrBr_r\" ,fmt='g')\n",
    "ax.xaxis.set_label_position(\"top\")\n",
    "plt.tight_layout()\n",
    "plt.title('Confusion Matrix', y=1.0)\n",
    "plt.ylabel('Actual label')"
   ]
  },
  {
   "cell_type": "markdown",
   "metadata": {},
   "source": [
    "The accurracy of this model is over 95% however there is no precision and recall."
   ]
  },
  {
   "cell_type": "code",
   "execution_count": 39,
   "metadata": {},
   "outputs": [
    {
     "name": "stdout",
     "output_type": "stream",
     "text": [
      "Accuracy: 0.9532497149372862\n",
      "Precision: 0.0\n",
      "Recall: 0.0\n"
     ]
    },
    {
     "name": "stderr",
     "output_type": "stream",
     "text": [
      "/Users/taylorpoole/anaconda/lib/python3.6/site-packages/sklearn/metrics/classification.py:1135: UndefinedMetricWarning: Precision is ill-defined and being set to 0.0 due to no predicted samples.\n",
      "  'precision', 'predicted', average, warn_for)\n"
     ]
    }
   ],
   "source": [
    "print(\"Accuracy:\",metrics.accuracy_score(y_test, y_pred))\n",
    "print(\"Precision:\",metrics.precision_score(y_test, y_pred))\n",
    "print(\"Recall:\",metrics.recall_score(y_test, y_pred))"
   ]
  },
  {
   "cell_type": "code",
   "execution_count": 40,
   "metadata": {},
   "outputs": [
    {
     "data": {
      "image/png": "[encoded data removed]",
      "text/plain": [
       "<Figure size 432x288 with 1 Axes>"
      ]
     },
     "metadata": {
      "needs_background": "light"
     },
     "output_type": "display_data"
    }
   ],
   "source": [
    "y_pred_proba = lr.predict_proba(X_test)[::,1]\n",
    "fpr, tpr, _ = metrics.roc_curve(y_test,  y_pred_proba)\n",
    "auc = metrics.roc_auc_score(y_test, y_pred_proba)\n",
    "plt.plot(fpr,tpr,label=\"data 1, auc=\"+str(auc))\n",
    "plt.legend(loc=4)\n",
    "plt.show()"
   ]
  },
  {
   "cell_type": "code",
   "execution_count": 41,
   "metadata": {},
   "outputs": [
    {
     "name": "stderr",
     "output_type": "stream",
     "text": [
      "/Users/taylorpoole/anaconda/lib/python3.6/site-packages/sklearn/utils/validation.py:578: DataConversionWarning: A column-vector y was passed when a 1d array was expected. Please change the shape of y to (n_samples, ), for example using ravel().\n",
      "  y = column_or_1d(y, warn=True)\n"
     ]
    },
    {
     "data": {
      "text/plain": [
       "array([[ 2155,  1753],\n",
       "       [ 1278, 22585]])"
      ]
     },
     "execution_count": 41,
     "metadata": {},
     "output_type": "execute_result"
    }
   ],
   "source": [
    "\n",
    "feature_column=['OTHERS']\n",
    "X=FILTER_CLUS39[feature_column]\n",
    "Y=pd.factorize(FILTER_CLUS39['CRIMETYPE'].values)[0].reshape(-1,1)\n",
    "X_train,X_test,y_train,y_test=train_test_split(Y,X,test_size=0.25,random_state=0)\n",
    "lr = LogisticRegression()\n",
    "\n",
    "# fit the model with data\n",
    "(lr.fit(X_train,y_train))\n",
    "\n",
    "y_pred=lr.predict(X_test)\n",
    "cnf_matrix = metrics.confusion_matrix(y_test, y_pred)\n",
    "cnf_matrix"
   ]
  },
  {
   "cell_type": "code",
   "execution_count": 42,
   "metadata": {},
   "outputs": [
    {
     "name": "stdout",
     "output_type": "stream",
     "text": [
      "Accuracy: 0.8908573691980843\n",
      "Precision: 0.9279727175610157\n",
      "Recall: 0.9464442861333445\n"
     ]
    }
   ],
   "source": [
    "print(\"Accuracy:\",metrics.accuracy_score(y_test, y_pred))\n",
    "print(\"Precision:\",metrics.precision_score(y_test, y_pred))\n",
    "print(\"Recall:\",metrics.recall_score(y_test, y_pred))"
   ]
  },
  {
   "cell_type": "code",
   "execution_count": 43,
   "metadata": {},
   "outputs": [
    {
     "data": {
      "text/plain": [
       "Text(33,0.5,'Actual label')"
      ]
     },
     "execution_count": 43,
     "metadata": {},
     "output_type": "execute_result"
    },
    {
     "data": {
      "image/png": "[encoded data removed]",
      "text/plain": [
       "<Figure size 432x288 with 2 Axes>"
      ]
     },
     "metadata": {
      "needs_background": "light"
     },
     "output_type": "display_data"
    }
   ],
   "source": [
    "class_nms=[0,1] \n",
    "fig, ax = plt.subplots()\n",
    "tick_marks = np.arange(len(class_nms))\n",
    "plt.xticks(tick_marks, class_nms)\n",
    "plt.yticks(tick_marks, class_nms)\n",
    "# create heatmap\n",
    "sns.heatmap(pd.DataFrame(cnf_matrix), annot=True, cmap=\"YlOrBr_r\" ,fmt='g')\n",
    "ax.xaxis.set_label_position(\"top\")\n",
    "plt.tight_layout()\n",
    "plt.title('Confusion Matrix', y=1.0)\n",
    "plt.ylabel('Actual label')"
   ]
  },
  {
   "cell_type": "code",
   "execution_count": 44,
   "metadata": {},
   "outputs": [
    {
     "data": {
      "image/png": "[encoded data removed]",
      "text/plain": [
       "<Figure size 432x288 with 1 Axes>"
      ]
     },
     "metadata": {
      "needs_background": "light"
     },
     "output_type": "display_data"
    }
   ],
   "source": [
    "y_pred_proba = lr.predict_proba(X_test)[::,1]\n",
    "fpr, tpr, _ = metrics.roc_curve(y_test,  y_pred_proba)\n",
    "auc = metrics.roc_auc_score(y_test, y_pred_proba)\n",
    "plt.plot(fpr,tpr,label=\"data 2, auc=\"+str(auc))\n",
    "plt.legend(loc=4)\n",
    "plt.show()"
   ]
  },
  {
   "cell_type": "markdown",
   "metadata": {},
   "source": [
    "Differring from the first model, the above model made a substansial amount of incorrect predictions when the method of 'OTHERS' was used as a feature and 'CRIMETYPE' as the target."
   ]
  },
  {
   "cell_type": "markdown",
   "metadata": {},
   "source": [
    "Future research: It would be interesting to look at auto crashes and see what kind of correlation emerges between crime and auto accidents. "
   ]
  },
  {
   "cell_type": "code",
   "execution_count": 45,
   "metadata": {},
   "outputs": [
    {
     "ename": "ModuleNotFoundError",
     "evalue": "No module named 'Pandoc'",
     "output_type": "error",
     "traceback": [
      "\u001b[0;31m---------------------------------------------------------------------------\u001b[0m",
      "\u001b[0;31mModuleNotFoundError\u001b[0m                       Traceback (most recent call last)",
      "\u001b[0;32m<ipython-input-45-b5c8c30e29ff>\u001b[0m in \u001b[0;36m<module>\u001b[0;34m()\u001b[0m\n\u001b[0;32m----> 1\u001b[0;31m \u001b[0;32mimport\u001b[0m \u001b[0mPandoc\u001b[0m\u001b[0;34m\u001b[0m\u001b[0m\n\u001b[0m",
      "\u001b[0;31mModuleNotFoundError\u001b[0m: No module named 'Pandoc'"
     ]
    }
   ],
   "source": [
    "import Pandoc"
   ]
  },
  {
   "cell_type": "code",
   "execution_count": null,
   "metadata": {},
   "outputs": [],
   "source": [
    "brew install pandoc"
   ]
  },
  {
   "cell_type": "code",
   "execution_count": 55,
   "metadata": {},
   "outputs": [
    {
     "name": "stderr",
     "output_type": "stream",
     "text": [
      "/Users/taylorpoole/anaconda/lib/python3.6/site-packages/sklearn/utils/validation.py:578: DataConversionWarning: A column-vector y was passed when a 1d array was expected. Please change the shape of y to (n_samples, ), for example using ravel().\n",
      "  y = column_or_1d(y, warn=True)\n"
     ]
    },
    {
     "data": {
      "text/plain": [
       "array([[24081,   257],\n",
       "       [ 2316,  1117]])"
      ]
     },
     "execution_count": 55,
     "metadata": {},
     "output_type": "execute_result"
    }
   ],
   "source": [
    "feature_column=['OTHERS', 'GUN']\n",
    "X=FILTER_CLUS39[feature_column]\n",
    "Y=FILTER_CLUS39[['CRIMETYPE']]\n",
    "X_train,X_test,y_train,y_test=train_test_split(X,Y,test_size=0.25,random_state=0)\n",
    "lr = LogisticRegression()\n",
    "\n",
    "# fit the model with data\n",
    "(lr.fit(X_train,y_train))\n",
    "\n",
    "y_pred=lr.predict(X_test)\n",
    "cnf_matrix = metrics.confusion_matrix(y_test, y_pred)\n",
    "cnf_matrix"
   ]
  },
  {
   "cell_type": "code",
   "execution_count": 54,
   "metadata": {},
   "outputs": [],
   "source": [
    "train_test_split?"
   ]
  },
  {
   "cell_type": "code",
   "execution_count": null,
   "metadata": {},
   "outputs": [],
   "source": []
  }
 ],
 "metadata": {
  "kernelspec": {
   "display_name": "Python 3",
   "language": "python",
   "name": "python3"
  },
  "language_info": {
   "codemirror_mode": {
    "name": "ipython",
    "version": 3
   },
   "file_extension": ".py",
   "mimetype": "text/x-python",
   "name": "python",
   "nbconvert_exporter": "python",
   "pygments_lexer": "ipython3",
   "version": "3.6.6"
  }
 },
 "nbformat": 4,
 "nbformat_minor": 2
}
